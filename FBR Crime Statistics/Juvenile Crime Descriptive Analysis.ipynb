{
 "cells": [
  {
   "cell_type": "code",
   "execution_count": null,
   "id": "c7fa5cda",
   "metadata": {},
   "outputs": [],
   "source": [
    "# TODO: Analyze data on the total juvenile arrests by offense name"
   ]
  },
  {
   "cell_type": "code",
   "execution_count": 1,
   "id": "3f03fb7a",
   "metadata": {},
   "outputs": [],
   "source": [
    "import pandas as pd\n",
    "import seaborn as sns\n",
    "import matplotlib.pyplot as plt"
   ]
  },
  {
   "cell_type": "code",
   "execution_count": 2,
   "id": "a756a8f0",
   "metadata": {},
   "outputs": [],
   "source": [
    "# Open the data\n",
    "data = pd.read_csv(\"arrests_national_juvenile.csv\")"
   ]
  },
  {
   "cell_type": "code",
   "execution_count": 3,
   "id": "6fa86822",
   "metadata": {},
   "outputs": [
    {
     "data": {
      "text/html": [
       "<div>\n",
       "<style scoped>\n",
       "    .dataframe tbody tr th:only-of-type {\n",
       "        vertical-align: middle;\n",
       "    }\n",
       "\n",
       "    .dataframe tbody tr th {\n",
       "        vertical-align: top;\n",
       "    }\n",
       "\n",
       "    .dataframe thead th {\n",
       "        text-align: right;\n",
       "    }\n",
       "</style>\n",
       "<table border=\"1\" class=\"dataframe\">\n",
       "  <thead>\n",
       "    <tr style=\"text-align: right;\">\n",
       "      <th></th>\n",
       "      <th>id</th>\n",
       "      <th>year</th>\n",
       "      <th>state_abbr</th>\n",
       "      <th>offense_code</th>\n",
       "      <th>offense_name</th>\n",
       "      <th>agencies</th>\n",
       "      <th>population</th>\n",
       "      <th>total_male</th>\n",
       "      <th>total_female</th>\n",
       "      <th>m_0_9</th>\n",
       "      <th>...</th>\n",
       "      <th>f_13_14</th>\n",
       "      <th>f_15</th>\n",
       "      <th>f_16</th>\n",
       "      <th>f_17</th>\n",
       "      <th>race_agencies</th>\n",
       "      <th>race_population</th>\n",
       "      <th>white</th>\n",
       "      <th>black</th>\n",
       "      <th>asian_pacific_islander</th>\n",
       "      <th>american_indian</th>\n",
       "    </tr>\n",
       "  </thead>\n",
       "  <tbody>\n",
       "    <tr>\n",
       "      <th>0</th>\n",
       "      <td>1081</td>\n",
       "      <td>2016</td>\n",
       "      <td>NaN</td>\n",
       "      <td>ASR_ARSON</td>\n",
       "      <td>Arson</td>\n",
       "      <td>13310</td>\n",
       "      <td>264534532</td>\n",
       "      <td>1760</td>\n",
       "      <td>328</td>\n",
       "      <td>117.0</td>\n",
       "      <td>...</td>\n",
       "      <td>114.0</td>\n",
       "      <td>66.0</td>\n",
       "      <td>39.0</td>\n",
       "      <td>43</td>\n",
       "      <td>12581</td>\n",
       "      <td>263887632</td>\n",
       "      <td>1436</td>\n",
       "      <td>516</td>\n",
       "      <td>41.0</td>\n",
       "      <td>48.0</td>\n",
       "    </tr>\n",
       "    <tr>\n",
       "      <th>1</th>\n",
       "      <td>1082</td>\n",
       "      <td>2016</td>\n",
       "      <td>NaN</td>\n",
       "      <td>ASR_AST</td>\n",
       "      <td>Aggravated Assault</td>\n",
       "      <td>13310</td>\n",
       "      <td>264534532</td>\n",
       "      <td>16997</td>\n",
       "      <td>5918</td>\n",
       "      <td>141.0</td>\n",
       "      <td>...</td>\n",
       "      <td>1565.0</td>\n",
       "      <td>1171.0</td>\n",
       "      <td>1337.0</td>\n",
       "      <td>1361</td>\n",
       "      <td>12581</td>\n",
       "      <td>263887632</td>\n",
       "      <td>12370</td>\n",
       "      <td>9736</td>\n",
       "      <td>296.0</td>\n",
       "      <td>364.0</td>\n",
       "    </tr>\n",
       "    <tr>\n",
       "      <th>2</th>\n",
       "      <td>1083</td>\n",
       "      <td>2016</td>\n",
       "      <td>NaN</td>\n",
       "      <td>ASR_AST_SMP</td>\n",
       "      <td>Simple Assault</td>\n",
       "      <td>13310</td>\n",
       "      <td>264534532</td>\n",
       "      <td>66360</td>\n",
       "      <td>38712</td>\n",
       "      <td>1043.0</td>\n",
       "      <td>...</td>\n",
       "      <td>11210.0</td>\n",
       "      <td>8036.0</td>\n",
       "      <td>8264.0</td>\n",
       "      <td>7590</td>\n",
       "      <td>12581</td>\n",
       "      <td>263887632</td>\n",
       "      <td>59778</td>\n",
       "      <td>41923</td>\n",
       "      <td>1130.0</td>\n",
       "      <td>1378.0</td>\n",
       "    </tr>\n",
       "    <tr>\n",
       "      <th>3</th>\n",
       "      <td>1084</td>\n",
       "      <td>2016</td>\n",
       "      <td>NaN</td>\n",
       "      <td>ASR_BRG</td>\n",
       "      <td>Burglary</td>\n",
       "      <td>13310</td>\n",
       "      <td>264534532</td>\n",
       "      <td>23307</td>\n",
       "      <td>3071</td>\n",
       "      <td>167.0</td>\n",
       "      <td>...</td>\n",
       "      <td>727.0</td>\n",
       "      <td>618.0</td>\n",
       "      <td>689.0</td>\n",
       "      <td>833</td>\n",
       "      <td>12581</td>\n",
       "      <td>263887632</td>\n",
       "      <td>14413</td>\n",
       "      <td>11082</td>\n",
       "      <td>368.0</td>\n",
       "      <td>362.0</td>\n",
       "    </tr>\n",
       "    <tr>\n",
       "      <th>4</th>\n",
       "      <td>1085</td>\n",
       "      <td>2016</td>\n",
       "      <td>NaN</td>\n",
       "      <td>ASR_CUR</td>\n",
       "      <td>Curfew and Loitering Law Violations</td>\n",
       "      <td>13310</td>\n",
       "      <td>264534532</td>\n",
       "      <td>19218</td>\n",
       "      <td>8319</td>\n",
       "      <td>110.0</td>\n",
       "      <td>...</td>\n",
       "      <td>1991.0</td>\n",
       "      <td>1887.0</td>\n",
       "      <td>2267.0</td>\n",
       "      <td>1701</td>\n",
       "      <td>12581</td>\n",
       "      <td>263887632</td>\n",
       "      <td>15468</td>\n",
       "      <td>11045</td>\n",
       "      <td>382.0</td>\n",
       "      <td>429.0</td>\n",
       "    </tr>\n",
       "    <tr>\n",
       "      <th>...</th>\n",
       "      <td>...</td>\n",
       "      <td>...</td>\n",
       "      <td>...</td>\n",
       "      <td>...</td>\n",
       "      <td>...</td>\n",
       "      <td>...</td>\n",
       "      <td>...</td>\n",
       "      <td>...</td>\n",
       "      <td>...</td>\n",
       "      <td>...</td>\n",
       "      <td>...</td>\n",
       "      <td>...</td>\n",
       "      <td>...</td>\n",
       "      <td>...</td>\n",
       "      <td>...</td>\n",
       "      <td>...</td>\n",
       "      <td>...</td>\n",
       "      <td>...</td>\n",
       "      <td>...</td>\n",
       "      <td>...</td>\n",
       "      <td>...</td>\n",
       "    </tr>\n",
       "    <tr>\n",
       "      <th>685</th>\n",
       "      <td>446</td>\n",
       "      <td>1994</td>\n",
       "      <td>NaN</td>\n",
       "      <td>ASR_STP</td>\n",
       "      <td>Stolen Property</td>\n",
       "      <td>10713</td>\n",
       "      <td>208091172</td>\n",
       "      <td>32205</td>\n",
       "      <td>4105</td>\n",
       "      <td>211.0</td>\n",
       "      <td>...</td>\n",
       "      <td>1150.0</td>\n",
       "      <td>905.0</td>\n",
       "      <td>937.0</td>\n",
       "      <td>863</td>\n",
       "      <td>10282</td>\n",
       "      <td>207684879</td>\n",
       "      <td>21242</td>\n",
       "      <td>14077</td>\n",
       "      <td>587.0</td>\n",
       "      <td>364.0</td>\n",
       "    </tr>\n",
       "    <tr>\n",
       "      <th>686</th>\n",
       "      <td>447</td>\n",
       "      <td>1994</td>\n",
       "      <td>NaN</td>\n",
       "      <td>ASR_SUS</td>\n",
       "      <td>Suspicion</td>\n",
       "      <td>10713</td>\n",
       "      <td>208091172</td>\n",
       "      <td>1389</td>\n",
       "      <td>330</td>\n",
       "      <td>30.0</td>\n",
       "      <td>...</td>\n",
       "      <td>99.0</td>\n",
       "      <td>76.0</td>\n",
       "      <td>64.0</td>\n",
       "      <td>58</td>\n",
       "      <td>10282</td>\n",
       "      <td>207684879</td>\n",
       "      <td>1171</td>\n",
       "      <td>521</td>\n",
       "      <td>5.0</td>\n",
       "      <td>22.0</td>\n",
       "    </tr>\n",
       "    <tr>\n",
       "      <th>687</th>\n",
       "      <td>448</td>\n",
       "      <td>1994</td>\n",
       "      <td>NaN</td>\n",
       "      <td>ASR_VAG</td>\n",
       "      <td>Vagrancy</td>\n",
       "      <td>10713</td>\n",
       "      <td>208091172</td>\n",
       "      <td>2979</td>\n",
       "      <td>683</td>\n",
       "      <td>15.0</td>\n",
       "      <td>...</td>\n",
       "      <td>206.0</td>\n",
       "      <td>143.0</td>\n",
       "      <td>159.0</td>\n",
       "      <td>149</td>\n",
       "      <td>10282</td>\n",
       "      <td>207684879</td>\n",
       "      <td>2599</td>\n",
       "      <td>1010</td>\n",
       "      <td>40.0</td>\n",
       "      <td>13.0</td>\n",
       "    </tr>\n",
       "    <tr>\n",
       "      <th>688</th>\n",
       "      <td>449</td>\n",
       "      <td>1994</td>\n",
       "      <td>NaN</td>\n",
       "      <td>ASR_VAN</td>\n",
       "      <td>Vandalism</td>\n",
       "      <td>10713</td>\n",
       "      <td>208091172</td>\n",
       "      <td>110175</td>\n",
       "      <td>12616</td>\n",
       "      <td>5621.0</td>\n",
       "      <td>...</td>\n",
       "      <td>4161.0</td>\n",
       "      <td>2272.0</td>\n",
       "      <td>2050.0</td>\n",
       "      <td>1864</td>\n",
       "      <td>10282</td>\n",
       "      <td>207684879</td>\n",
       "      <td>98391</td>\n",
       "      <td>20722</td>\n",
       "      <td>2073.0</td>\n",
       "      <td>1257.0</td>\n",
       "    </tr>\n",
       "    <tr>\n",
       "      <th>689</th>\n",
       "      <td>450</td>\n",
       "      <td>1994</td>\n",
       "      <td>NaN</td>\n",
       "      <td>ASR_WEAP</td>\n",
       "      <td>Weapons</td>\n",
       "      <td>10713</td>\n",
       "      <td>208091172</td>\n",
       "      <td>48128</td>\n",
       "      <td>4235</td>\n",
       "      <td>562.0</td>\n",
       "      <td>...</td>\n",
       "      <td>1451.0</td>\n",
       "      <td>878.0</td>\n",
       "      <td>782.0</td>\n",
       "      <td>687</td>\n",
       "      <td>10282</td>\n",
       "      <td>207684879</td>\n",
       "      <td>32308</td>\n",
       "      <td>18786</td>\n",
       "      <td>846.0</td>\n",
       "      <td>380.0</td>\n",
       "    </tr>\n",
       "  </tbody>\n",
       "</table>\n",
       "<p>690 rows × 27 columns</p>\n",
       "</div>"
      ],
      "text/plain": [
       "       id  year  state_abbr offense_code                         offense_name  \\\n",
       "0    1081  2016         NaN    ASR_ARSON                                Arson   \n",
       "1    1082  2016         NaN      ASR_AST                   Aggravated Assault   \n",
       "2    1083  2016         NaN  ASR_AST_SMP                       Simple Assault   \n",
       "3    1084  2016         NaN      ASR_BRG                             Burglary   \n",
       "4    1085  2016         NaN      ASR_CUR  Curfew and Loitering Law Violations   \n",
       "..    ...   ...         ...          ...                                  ...   \n",
       "685   446  1994         NaN      ASR_STP                      Stolen Property   \n",
       "686   447  1994         NaN      ASR_SUS                            Suspicion   \n",
       "687   448  1994         NaN      ASR_VAG                             Vagrancy   \n",
       "688   449  1994         NaN      ASR_VAN                            Vandalism   \n",
       "689   450  1994         NaN     ASR_WEAP                              Weapons   \n",
       "\n",
       "     agencies  population  total_male  total_female   m_0_9  ...  f_13_14  \\\n",
       "0       13310   264534532        1760           328   117.0  ...    114.0   \n",
       "1       13310   264534532       16997          5918   141.0  ...   1565.0   \n",
       "2       13310   264534532       66360         38712  1043.0  ...  11210.0   \n",
       "3       13310   264534532       23307          3071   167.0  ...    727.0   \n",
       "4       13310   264534532       19218          8319   110.0  ...   1991.0   \n",
       "..        ...         ...         ...           ...     ...  ...      ...   \n",
       "685     10713   208091172       32205          4105   211.0  ...   1150.0   \n",
       "686     10713   208091172        1389           330    30.0  ...     99.0   \n",
       "687     10713   208091172        2979           683    15.0  ...    206.0   \n",
       "688     10713   208091172      110175         12616  5621.0  ...   4161.0   \n",
       "689     10713   208091172       48128          4235   562.0  ...   1451.0   \n",
       "\n",
       "       f_15    f_16  f_17  race_agencies  race_population  white  black  \\\n",
       "0      66.0    39.0    43          12581        263887632   1436    516   \n",
       "1    1171.0  1337.0  1361          12581        263887632  12370   9736   \n",
       "2    8036.0  8264.0  7590          12581        263887632  59778  41923   \n",
       "3     618.0   689.0   833          12581        263887632  14413  11082   \n",
       "4    1887.0  2267.0  1701          12581        263887632  15468  11045   \n",
       "..      ...     ...   ...            ...              ...    ...    ...   \n",
       "685   905.0   937.0   863          10282        207684879  21242  14077   \n",
       "686    76.0    64.0    58          10282        207684879   1171    521   \n",
       "687   143.0   159.0   149          10282        207684879   2599   1010   \n",
       "688  2272.0  2050.0  1864          10282        207684879  98391  20722   \n",
       "689   878.0   782.0   687          10282        207684879  32308  18786   \n",
       "\n",
       "     asian_pacific_islander  american_indian  \n",
       "0                      41.0             48.0  \n",
       "1                     296.0            364.0  \n",
       "2                    1130.0           1378.0  \n",
       "3                     368.0            362.0  \n",
       "4                     382.0            429.0  \n",
       "..                      ...              ...  \n",
       "685                   587.0            364.0  \n",
       "686                     5.0             22.0  \n",
       "687                    40.0             13.0  \n",
       "688                  2073.0           1257.0  \n",
       "689                   846.0            380.0  \n",
       "\n",
       "[690 rows x 27 columns]"
      ]
     },
     "execution_count": 3,
     "metadata": {},
     "output_type": "execute_result"
    }
   ],
   "source": [
    "data"
   ]
  },
  {
   "cell_type": "markdown",
   "id": "a8c9a9a9",
   "metadata": {},
   "source": [
    "## Initial Exploratory Data Analysis"
   ]
  },
  {
   "cell_type": "code",
   "execution_count": 4,
   "id": "2751a3a4",
   "metadata": {},
   "outputs": [
    {
     "data": {
      "text/plain": [
       "id                          0\n",
       "year                        0\n",
       "state_abbr                690\n",
       "offense_code                0\n",
       "offense_name                0\n",
       "agencies                    0\n",
       "population                  0\n",
       "total_male                  0\n",
       "total_female                0\n",
       "m_0_9                      36\n",
       "m_10_12                     5\n",
       "m_13_14                     0\n",
       "m_15                        0\n",
       "m_16                        0\n",
       "m_17                        0\n",
       "f_0_9                      96\n",
       "f_10_12                    39\n",
       "f_13_14                     9\n",
       "f_15                        6\n",
       "f_16                        3\n",
       "f_17                        0\n",
       "race_agencies               0\n",
       "race_population             0\n",
       "white                       0\n",
       "black                       0\n",
       "asian_pacific_islander     12\n",
       "american_indian            29\n",
       "dtype: int64"
      ]
     },
     "execution_count": 4,
     "metadata": {},
     "output_type": "execute_result"
    }
   ],
   "source": [
    "# See the columns that have missing values\n",
    "data.isnull().sum()"
   ]
  },
  {
   "cell_type": "markdown",
   "id": "e1ba749c",
   "metadata": {},
   "source": [
    "We see that there is some missing data. \n",
    "* State abbreviation is completely missing, which could be for security/confidential reasons\n",
    "* There is missing data on some of the age ranges for the gender breakdown, which is unusual as according to the FBI CDE must report age and sex. However it may be possible to calculate for males using the total male. \n",
    "* There is some data missing regarding number of Asian Pacific Islanders and American Indians arrests, however it said in the FBI CDE that not all agencies report the race/ethnicity of arrests."
   ]
  },
  {
   "cell_type": "code",
   "execution_count": 5,
   "id": "3b618c97",
   "metadata": {},
   "outputs": [
    {
     "data": {
      "text/plain": [
       "2016    30\n",
       "2004    30\n",
       "1995    30\n",
       "1996    30\n",
       "1997    30\n",
       "1998    30\n",
       "1999    30\n",
       "2000    30\n",
       "2001    30\n",
       "2002    30\n",
       "2003    30\n",
       "2005    30\n",
       "2015    30\n",
       "2006    30\n",
       "2007    30\n",
       "2008    30\n",
       "2009    30\n",
       "2010    30\n",
       "2011    30\n",
       "2012    30\n",
       "2013    30\n",
       "2014    30\n",
       "1994    30\n",
       "Name: year, dtype: int64"
      ]
     },
     "execution_count": 5,
     "metadata": {},
     "output_type": "execute_result"
    }
   ],
   "source": [
    "# Find the number of arrests in every year\n",
    "data[\"year\"].value_counts()"
   ]
  },
  {
   "cell_type": "markdown",
   "id": "429bb8a0",
   "metadata": {},
   "source": [
    "### Explore the data on the Number of Juvenile Arrests per Year\n",
    "* Look at total number of juvenile arrests per year\n",
    "* Break down the total number of arrests by gender\n",
    "* Break down the total number of arrests by age range \n",
    "* Break down the total number of arrests by race/ethnicity\n",
    "* Break down the total number of arrests by the top three offences"
   ]
  },
  {
   "cell_type": "code",
   "execution_count": 6,
   "id": "438ca91b",
   "metadata": {},
   "outputs": [],
   "source": [
    "# Which year had the most amount of crime?\n",
    "totals = data[[\"total_male\", \"total_female\"]].sum(axis = 1)\n",
    "data[\"Total\"] = totals"
   ]
  },
  {
   "cell_type": "code",
   "execution_count": 7,
   "id": "5afaa4d4",
   "metadata": {},
   "outputs": [
    {
     "data": {
      "text/plain": [
       "Text(0.5, 1.0, 'Total Number of Juvenile Arrests (1994 - 2016)')"
      ]
     },
     "execution_count": 7,
     "metadata": {},
     "output_type": "execute_result"
    },
    {
     "data": {
      "image/png": "[encoded data removed]",
      "text/plain": [
       "<Figure size 720x504 with 1 Axes>"
      ]
     },
     "metadata": {
      "needs_background": "light"
     },
     "output_type": "display_data"
    }
   ],
   "source": [
    "plt.figure(figsize = (10,7))\n",
    "sns.barplot(data = data, x = \"year\", y = \"Total\")\n",
    "plt.title(\"Total Number of Juvenile Arrests (1994 - 2016)\")"
   ]
  },
  {
   "cell_type": "markdown",
   "id": "1d254d3d",
   "metadata": {},
   "source": [
    "From the plot above we can see a few trends\n",
    "* The average amount of arrests in general decreases over the course of 22 years\n",
    "* The standard deviations vary wildly, meaning that there is high variability of arrests over different states, therefore states have a highly varying number of arrests\n",
    "* The decrease in arrests could be due to lax policing or harsher laws that deter juveniles from crime"
   ]
  },
  {
   "cell_type": "code",
   "execution_count": 8,
   "id": "54b4c621",
   "metadata": {},
   "outputs": [
    {
     "name": "stdout",
     "output_type": "stream",
     "text": [
      "There are 30 different crimes listed and they are:\n",
      " ['Arson' 'Aggravated Assault' 'Simple Assault' 'Burglary'\n",
      " 'Curfew and Loitering Law Violations' 'Disorderly Conduct'\n",
      " 'Drug Abuse Violations' 'Drunkenness' 'Drive Under the Influence'\n",
      " 'Embezzlement' 'Offenses Against the Family and Children'\n",
      " 'Forgery and Counterfeiting' 'Fraud' 'Gambling'\n",
      " 'Murder and Nonnegligent Homicide' 'Liquor Laws' 'Larceny'\n",
      " 'Manslaughter by Negligence' 'Motor Vehicle Theft' 'All Other Offenses'\n",
      " 'Prostitution and Commercialized Vice' 'Robbery' 'Rape' 'Runaway'\n",
      " 'Sex Offenses' 'Stolen Property' 'Suspicion' 'Vagrancy' 'Vandalism'\n",
      " 'Weapons']\n"
     ]
    }
   ],
   "source": [
    "# Find the number of different crimes\n",
    "crimes = data[\"offense_name\"].unique()\n",
    "num_crimes = len(data[\"offense_name\"].unique())\n",
    "print(f\"There are {num_crimes} different crimes listed and they are:\\n {crimes}\")"
   ]
  },
  {
   "cell_type": "code",
   "execution_count": 9,
   "id": "26738f43",
   "metadata": {},
   "outputs": [
    {
     "name": "stderr",
     "output_type": "stream",
     "text": [
      "C:\\Users\\srisk\\AppData\\Local\\Temp/ipykernel_1116/4177706387.py:5: FutureWarning: Indexing with multiple keys (implicitly converted to a tuple of keys) will be deprecated, use a list instead.\n",
      "  totals_df = totals_df.groupby(\"year\")[\"total_male\", \"total_female\"].sum()\n"
     ]
    },
    {
     "data": {
      "text/plain": [
       "Text(0.5, 1.0, 'Number of Juvenile Arrests by Gender')"
      ]
     },
     "execution_count": 9,
     "metadata": {},
     "output_type": "execute_result"
    },
    {
     "data": {
      "image/png": "[encoded data removed]",
      "text/plain": [
       "<Figure size 720x504 with 1 Axes>"
      ]
     },
     "metadata": {
      "needs_background": "light"
     },
     "output_type": "display_data"
    }
   ],
   "source": [
    "# Find the distribution of crimes in the year per per gender\n",
    "\n",
    "# Create a sub DataFrame of the totals for every year\n",
    "totals_df = data[[\"year\",\"total_male\", \"total_female\"]]\n",
    "totals_df = totals_df.groupby(\"year\")[\"total_male\", \"total_female\"].sum()\n",
    "\n",
    "# Create a stacked barplot\n",
    "\n",
    "totals_df.plot(figsize = (10,7), kind='bar', stacked=True, color=['red', 'skyblue'])\n",
    "plt.ylabel(\"Number of Juvenile Arrests (Million)\")\n",
    "plt.title(\"Number of Juvenile Arrests by Gender\")"
   ]
  },
  {
   "cell_type": "markdown",
   "id": "41ecee9c",
   "metadata": {},
   "source": [
    "From looking at the plot comparing the number of juvenile arrests broken down by gender we notice that\n",
    "* Males far outnumber women in number of arrests across all years\n",
    "* It appears that for all years, the number of male arrests is about double than that of female arrests"
   ]
  },
  {
   "cell_type": "code",
   "execution_count": 10,
   "id": "57787a6b",
   "metadata": {
    "scrolled": true
   },
   "outputs": [
    {
     "name": "stderr",
     "output_type": "stream",
     "text": [
      "C:\\Users\\srisk\\AppData\\Local\\Temp/ipykernel_1116/3006453644.py:5: FutureWarning: Indexing with multiple keys (implicitly converted to a tuple of keys) will be deprecated, use a list instead.\n",
      "  male_age_df = male_age_df.groupby(\"year\")[\"m_0_9\", \"m_10_12\", \"m_13_14\", \"m_15\", \"m_16\", \"m_17\"].sum()\n",
      "C:\\Users\\srisk\\AppData\\Local\\Temp/ipykernel_1116/3006453644.py:8: FutureWarning: Indexing with multiple keys (implicitly converted to a tuple of keys) will be deprecated, use a list instead.\n",
      "  female_age_df = female_age_df.groupby(\"year\")[\"f_0_9\", \"f_10_12\", \"f_13_14\", \"f_15\", \"f_16\", \"f_17\"].sum()\n"
     ]
    },
    {
     "data": {
      "text/plain": [
       "Text(0.5, 1.0, 'Number of Female Juvenile Arrests by Age Range')"
      ]
     },
     "execution_count": 10,
     "metadata": {},
     "output_type": "execute_result"
    },
    {
     "data": {
      "image/png": "[encoded data removed]",
      "text/plain": [
       "<Figure size 1080x504 with 2 Axes>"
      ]
     },
     "metadata": {
      "needs_background": "light"
     },
     "output_type": "display_data"
    }
   ],
   "source": [
    "# Break down total number of arrests by age range\n",
    "\n",
    "# Create a sub DataFrame of the totals for every year\n",
    "male_age_df = data[[\"year\",\"m_0_9\", \"m_10_12\", \"m_13_14\", \"m_15\", \"m_16\", \"m_17\"]]\n",
    "male_age_df = male_age_df.groupby(\"year\")[\"m_0_9\", \"m_10_12\", \"m_13_14\", \"m_15\", \"m_16\", \"m_17\"].sum()\n",
    "\n",
    "female_age_df = data[[\"year\",\"f_0_9\", \"f_10_12\", \"f_13_14\", \"f_15\", \"f_16\", \"f_17\"]]\n",
    "female_age_df = female_age_df.groupby(\"year\")[\"f_0_9\", \"f_10_12\", \"f_13_14\", \"f_15\", \"f_16\", \"f_17\"].sum()\n",
    "\n",
    "# Create a stacked barplots\n",
    "ax = plt.subplot(1,2,1)\n",
    "male_age_df.plot(figsize = (15,7), kind='bar', stacked=True, ax = ax)\n",
    "plt.ylabel(\"Number of Juvenile Arrests (By Million)\")\n",
    "plt.title(\"Number of Male Juvenile Arrests by Age Range\")\n",
    "\n",
    "ax = plt.subplot(1,2,2)\n",
    "female_age_df.plot(figsize = (15,7), kind='bar', stacked=True, ax = ax)\n",
    "plt.ylabel(\"Number of Juvenile Arrests\")\n",
    "plt.title(\"Number of Female Juvenile Arrests by Age Range\")"
   ]
  },
  {
   "cell_type": "code",
   "execution_count": 11,
   "id": "4a386835",
   "metadata": {},
   "outputs": [
    {
     "name": "stdout",
     "output_type": "stream",
     "text": [
      "Male Age Range DataFrame:\n",
      " year\n",
      "1994    m_17\n",
      "1995    m_17\n",
      "1996    m_17\n",
      "1997    m_17\n",
      "1998    m_17\n",
      "1999    m_17\n",
      "2000    m_17\n",
      "2001    m_17\n",
      "2002    m_17\n",
      "2003    m_17\n",
      "2004    m_17\n",
      "2005    m_17\n",
      "2006    m_17\n",
      "2007    m_17\n",
      "2008    m_17\n",
      "2009    m_17\n",
      "2010    m_17\n",
      "2011    m_17\n",
      "2012    m_17\n",
      "2013    m_17\n",
      "2014    m_17\n",
      "2015    m_17\n",
      "2016    m_17\n",
      "dtype: object\n",
      "[['m_17', 23]]\n",
      "\n",
      "Female Age Range DataFrame:\n",
      " year\n",
      "1994    f_13_14\n",
      "1995    f_13_14\n",
      "1996    f_13_14\n",
      "1997    f_13_14\n",
      "1998    f_13_14\n",
      "1999    f_13_14\n",
      "2000    f_13_14\n",
      "2001    f_13_14\n",
      "2002    f_13_14\n",
      "2003    f_13_14\n",
      "2004    f_13_14\n",
      "2005    f_13_14\n",
      "2006    f_13_14\n",
      "2007       f_16\n",
      "2008       f_17\n",
      "2009       f_17\n",
      "2010       f_17\n",
      "2011       f_17\n",
      "2012       f_17\n",
      "2013       f_17\n",
      "2014       f_17\n",
      "2015       f_17\n",
      "2016       f_17\n",
      "dtype: object\n",
      "[['f_13_14', 13], ['f_16', 1], ['f_17', 9]]\n"
     ]
    }
   ],
   "source": [
    "# Find the age range with the highest juvenile arrests per year by gender\n",
    "\n",
    "# Males\n",
    "highest_age_male_df = male_age_df[[\"m_0_9\", \"m_10_12\", \"m_13_14\", \"m_15\", \"m_16\", \"m_17\"]].idxmax(axis=1)\n",
    "print(f\"Male Age Range DataFrame:\\n {highest_age_male_df}\")\n",
    "print([[l, highest_age_male_df.tolist().count(l)] for l in set(highest_age_male_df.tolist())])\n",
    "print(\"\")\n",
    "# Females\n",
    "highest_age_female_df = female_age_df[[\"f_0_9\", \"f_10_12\", \"f_13_14\", \"f_15\", \"f_16\", \"f_17\"]].idxmax(axis=1)\n",
    "print(f\"Female Age Range DataFrame:\\n {highest_age_female_df}\")\n",
    "print([[l, highest_age_female_df.tolist().count(l)] for l in set(highest_age_female_df.tolist())])"
   ]
  },
  {
   "cell_type": "markdown",
   "id": "3f114fea",
   "metadata": {},
   "source": [
    "After breaking down the total number of juvenile arrests by age group we learn a few more patterns\n",
    "* For males, the older the age range, the higher the number of juvenile arrests\n",
    "* For males, for all years the most number of juvenile arrests were for those of age 17\n",
    "* For females, the breakdown is more interesting\n",
    "    * From 1994 - 2006, the most number of juvenile arrests were between the ages of 13 - 14\n",
    "    * In 2007, the most number of juvenile arrests were females of age 16\n",
    "    * From 2008 onwards, the most number of juvenile arrests were of age 17\n",
    "    \n",
    "Note: As we initially saw in the earlier EDA, there is missing data for the ages, especially for f_0_9 and f_10_12 which may affect the results. However the this will most likely not make any difference as we have seen from the initial age range breakdown that those of 0_9 age range and 10_12 range do not have many juvenile arrests."
   ]
  },
  {
   "cell_type": "code",
   "execution_count": 12,
   "id": "abddbd8d",
   "metadata": {},
   "outputs": [
    {
     "data": {
      "text/plain": [
       "Index(['id', 'year', 'state_abbr', 'offense_code', 'offense_name', 'agencies',\n",
       "       'population', 'total_male', 'total_female', 'm_0_9', 'm_10_12',\n",
       "       'm_13_14', 'm_15', 'm_16', 'm_17', 'f_0_9', 'f_10_12', 'f_13_14',\n",
       "       'f_15', 'f_16', 'f_17', 'race_agencies', 'race_population', 'white',\n",
       "       'black', 'asian_pacific_islander', 'american_indian', 'Total'],\n",
       "      dtype='object')"
      ]
     },
     "execution_count": 12,
     "metadata": {},
     "output_type": "execute_result"
    }
   ],
   "source": [
    "data.columns"
   ]
  },
  {
   "cell_type": "code",
   "execution_count": 13,
   "id": "0ce628cd",
   "metadata": {},
   "outputs": [
    {
     "name": "stderr",
     "output_type": "stream",
     "text": [
      "C:\\Users\\srisk\\AppData\\Local\\Temp/ipykernel_1116/4035999076.py:3: FutureWarning: Indexing with multiple keys (implicitly converted to a tuple of keys) will be deprecated, use a list instead.\n",
      "  race_df = race_df.groupby(\"year\")[\"white\", \"black\", \"asian_pacific_islander\", \"american_indian\"].sum()\n"
     ]
    },
    {
     "data": {
      "text/plain": [
       "Text(0.5, 1.0, 'Number of Juvenile Arrests by Race/Ethnicity')"
      ]
     },
     "execution_count": 13,
     "metadata": {},
     "output_type": "execute_result"
    },
    {
     "data": {
      "image/png": "[encoded data removed]",
      "text/plain": [
       "<Figure size 720x504 with 1 Axes>"
      ]
     },
     "metadata": {
      "needs_background": "light"
     },
     "output_type": "display_data"
    }
   ],
   "source": [
    "# Break down total number of juvenile arrests by race\n",
    "race_df = data[[\"year\",\"white\", \"black\", \"asian_pacific_islander\", \"american_indian\"]]\n",
    "race_df = race_df.groupby(\"year\")[\"white\", \"black\", \"asian_pacific_islander\", \"american_indian\"].sum()\n",
    "\n",
    "# Create the stacked barplot\n",
    "race_df.plot(figsize = (10,7), kind='bar', stacked=True)\n",
    "plt.ylabel(\"Number of Juvenile Arrests (Million)\")\n",
    "plt.title(\"Number of Juvenile Arrests by Race/Ethnicity\")\n"
   ]
  },
  {
   "cell_type": "markdown",
   "id": "858d4a40",
   "metadata": {},
   "source": [
    "From the plot above, we see that across all years the highest number of juvenile arrests have been for white people\n",
    "* White and black make up a huge majority of the total number of juvenile arrests"
   ]
  },
  {
   "cell_type": "code",
   "execution_count": 15,
   "id": "3f8e16ce",
   "metadata": {},
   "outputs": [
    {
     "data": {
      "text/plain": [
       "Index(['id', 'year', 'state_abbr', 'offense_code', 'offense_name', 'agencies',\n",
       "       'population', 'total_male', 'total_female', 'm_0_9', 'm_10_12',\n",
       "       'm_13_14', 'm_15', 'm_16', 'm_17', 'f_0_9', 'f_10_12', 'f_13_14',\n",
       "       'f_15', 'f_16', 'f_17', 'race_agencies', 'race_population', 'white',\n",
       "       'black', 'asian_pacific_islander', 'american_indian', 'Total'],\n",
       "      dtype='object')"
      ]
     },
     "execution_count": 15,
     "metadata": {},
     "output_type": "execute_result"
    }
   ],
   "source": [
    "data.columns"
   ]
  },
  {
   "cell_type": "code",
   "execution_count": 57,
   "id": "9b512fd8",
   "metadata": {},
   "outputs": [
    {
     "name": "stderr",
     "output_type": "stream",
     "text": [
      "C:\\Users\\srisk\\AppData\\Local\\Temp/ipykernel_1116/2214329444.py:3: FutureWarning: Indexing with multiple keys (implicitly converted to a tuple of keys) will be deprecated, use a list instead.\n",
      "  offenses_total = offenses_total.groupby([\"year\",\"offense_name\"])[\"total_male\", \"total_female\"].sum()\n"
     ]
    }
   ],
   "source": [
    "# Break down the total number of arrests by the top three offences \n",
    "offenses_total = data[[\"total_male\", \"total_female\", \"offense_name\", \"year\"]]\n",
    "offenses_total = offenses_total.groupby([\"year\",\"offense_name\"])[\"total_male\", \"total_female\"].sum()"
   ]
  },
  {
   "cell_type": "markdown",
   "id": "2de39216",
   "metadata": {},
   "source": [
    "### Explore the data in the Types of Arrests \n",
    "* Look at the breakdown for the top 3 highest causes for arrest every year\n",
    "* Breakdown the total causes by gender"
   ]
  },
  {
   "cell_type": "code",
   "execution_count": null,
   "id": "79b8209e",
   "metadata": {},
   "outputs": [],
   "source": []
  }
 ],
 "metadata": {
  "kernelspec": {
   "display_name": "Python 3 (ipykernel)",
   "language": "python",
   "name": "python3"
  },
  "language_info": {
   "codemirror_mode": {
    "name": "ipython",
    "version": 3
   },
   "file_extension": ".py",
   "mimetype": "text/x-python",
   "name": "python",
   "nbconvert_exporter": "python",
   "pygments_lexer": "ipython3",
   "version": "3.9.6"
  }
 },
 "nbformat": 4,
 "nbformat_minor": 5
}
